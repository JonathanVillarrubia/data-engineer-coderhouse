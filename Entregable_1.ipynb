{
  "nbformat": 4,
  "nbformat_minor": 0,
  "metadata": {
    "colab": {
      "provenance": [],
      "authorship_tag": "ABX9TyOScwgstOur9to28/tXAVwS",
      "include_colab_link": true
    },
    "kernelspec": {
      "name": "python3",
      "display_name": "Python 3"
    },
    "language_info": {
      "name": "python"
    }
  },
  "cells": [
    {
      "cell_type": "markdown",
      "metadata": {
        "id": "view-in-github",
        "colab_type": "text"
      },
      "source": [
        "<a href=\"https://colab.research.google.com/github/JonathanVillarrubia/data-engineer-coderhouse/blob/main/Entregable_1.ipynb\" target=\"_parent\"><img src=\"https://colab.research.google.com/assets/colab-badge.svg\" alt=\"Open In Colab\"/></a>"
      ]
    },
    {
      "cell_type": "code",
      "source": [
        "# Importación de librerias\n",
        "\n",
        "import requests\n",
        "import psycopg2\n",
        "\n",
        "# Configuración de la API y la consulta: Me traigo los datos especificos para la provincia de Buenos Aires\n",
        "url = \"https://weatherapi-com.p.rapidapi.com/current.json\"\n",
        "querystring = {\"q\": \"Buenos Aires\"}\n",
        "headers = {\n",
        "    \"X-RapidAPI-Key\": \"da9f357533msh3654b433b52c327p19ff8djsne4d1d5ce47b0\",\n",
        "    \"X-RapidAPI-Host\": \"weatherapi-com.p.rapidapi.com\"\n",
        "}\n",
        "\n",
        "response = requests.get(url, headers=headers, params=querystring)\n",
        "data = response.json()\n",
        "\n",
        "# Conexión a Amazon Redshift\n",
        "redshift_host = \"data-engineer-cluster.cyhh5bfevlmn.us-east-1.redshift.amazonaws.com\"\n",
        "redshift_port = \"5439\"\n",
        "redshift_database = \"data-engineer-database\"\n",
        "redshift_user = \"jonathan_villarrubia_coderhouse\"\n",
        "redshift_password = \"PVaF53JIB1\"\n",
        "\n",
        "conn = psycopg2.connect(\n",
        "    host=redshift_host,\n",
        "    port=redshift_port,\n",
        "    dbname=redshift_database,\n",
        "    user=redshift_user,\n",
        "    password=redshift_password\n",
        ")\n",
        "\n",
        "# Creo un cursor\n",
        "cur = conn.cursor()\n",
        "\n",
        "# Creo la tabla en la base de datos\n",
        "create_table_query = \"\"\"\n",
        "    CREATE TABLE IF NOT EXISTS weather_data_bs_as (\n",
        "        location_name VARCHAR(255),\n",
        "        region VARCHAR(255),\n",
        "        country VARCHAR(255),\n",
        "        latitude DECIMAL,\n",
        "        longitude DECIMAL,\n",
        "        timezone_id VARCHAR(255),\n",
        "        localtime_epoch BIGINT,\n",
        "        localtime_text VARCHAR(255),  -- Cambio acá: localtime -> localtime_text\n",
        "        last_updated_epoch BIGINT,\n",
        "        last_updated VARCHAR(255),\n",
        "        temp_c DECIMAL,\n",
        "        temp_f DECIMAL,\n",
        "        is_day INT,\n",
        "        condition_text VARCHAR(255),\n",
        "        wind_mph DECIMAL,\n",
        "        wind_kph DECIMAL,\n",
        "        wind_degree INT,\n",
        "        wind_dir VARCHAR(255),\n",
        "        pressure_mb DECIMAL,\n",
        "        pressure_in DECIMAL,\n",
        "        precip_mm DECIMAL,\n",
        "        precip_in DECIMAL,\n",
        "        humidity INT,\n",
        "        cloud INT,\n",
        "        feelslike_c DECIMAL,\n",
        "        feelslike_f DECIMAL,\n",
        "        vis_km DECIMAL,\n",
        "        vis_miles DECIMAL,\n",
        "        uv DECIMAL,\n",
        "        gust_mph DECIMAL,\n",
        "        gust_kph DECIMAL\n",
        "    );\n",
        "\"\"\"\n",
        "cur.execute(create_table_query)\n",
        "conn.commit()\n",
        "\n",
        "# Inserto datos en la tabla creada\n",
        "insert_query = \"\"\"\n",
        "    INSERT INTO weather_data_bs_as (\n",
        "        location_name, region, country, latitude, longitude, timezone_id,\n",
        "        localtime_epoch, localtime_text, last_updated_epoch, last_updated,\n",
        "        temp_c, temp_f, is_day, condition_text, wind_mph, wind_kph,\n",
        "        wind_degree, wind_dir, pressure_mb, pressure_in, precip_mm, precip_in,\n",
        "        humidity, cloud, feelslike_c, feelslike_f, vis_km, vis_miles, uv,\n",
        "        gust_mph, gust_kph\n",
        "    )\n",
        "    VALUES (\n",
        "        %s, %s, %s, %s, %s, %s, %s, %s, %s, %s, %s, %s, %s, %s, %s, %s, %s, %s, %s,\n",
        "        %s, %s, %s, %s, %s, %s, %s, %s, %s, %s, %s, %s\n",
        "    );\n",
        "\"\"\"\n",
        "\n",
        "data_to_insert = (\n",
        "    data[\"location\"][\"name\"], data[\"location\"][\"region\"], data[\"location\"][\"country\"],\n",
        "    data[\"location\"][\"lat\"], data[\"location\"][\"lon\"], data[\"location\"][\"tz_id\"],\n",
        "    data[\"location\"][\"localtime_epoch\"], data[\"location\"][\"localtime\"],\n",
        "    data[\"current\"][\"last_updated_epoch\"], data[\"current\"][\"last_updated\"],\n",
        "    data[\"current\"][\"temp_c\"], data[\"current\"][\"temp_f\"], data[\"current\"][\"is_day\"],\n",
        "    data[\"current\"][\"condition\"][\"text\"], data[\"current\"][\"wind_mph\"], data[\"current\"][\"wind_kph\"],\n",
        "    data[\"current\"][\"wind_degree\"], data[\"current\"][\"wind_dir\"], data[\"current\"][\"pressure_mb\"],\n",
        "    data[\"current\"][\"pressure_in\"], data[\"current\"][\"precip_mm\"], data[\"current\"][\"precip_in\"],\n",
        "    data[\"current\"][\"humidity\"], data[\"current\"][\"cloud\"], data[\"current\"][\"feelslike_c\"],\n",
        "    data[\"current\"][\"feelslike_f\"], data[\"current\"][\"vis_km\"], data[\"current\"][\"vis_miles\"],\n",
        "    data[\"current\"][\"uv\"], data[\"current\"][\"gust_mph\"], data[\"current\"][\"gust_kph\"]\n",
        ")\n",
        "cur.execute(insert_query, data_to_insert)\n",
        "conn.commit()\n",
        "\n",
        "# Cierro la conexión a Redshift\n",
        "cur.close()\n",
        "conn.close()\n",
        "\n",
        "print(\"Proceso completado: Datos del clima insertados en la tabla de Redshift.\")\n"
      ],
      "metadata": {
        "colab": {
          "base_uri": "https://localhost:8080/"
        },
        "id": "B4b6wcZvuEB9",
        "outputId": "51fff413-c121-4b88-855c-c0c547571ba8"
      },
      "execution_count": null,
      "outputs": [
        {
          "output_type": "stream",
          "name": "stdout",
          "text": [
            "Proceso completado: Datos del clima insertados en la tabla de Redshift.\n"
          ]
        }
      ]
    }
  ]
}